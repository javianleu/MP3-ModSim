{
 "cells": [
  {
   "cell_type": "markdown",
   "metadata": {},
   "source": [
    "# Miniproyecto 3\n",
    "## Modelación y Simulación\n",
    "Javier Anleu Alegría - 17149\n",
    "\n",
    "Andrea Argüello - 17801"
   ]
  },
  {
   "cell_type": "markdown",
   "metadata": {},
   "source": [
    "### Librerías"
   ]
  },
  {
   "cell_type": "code",
   "execution_count": 1,
   "metadata": {},
   "outputs": [],
   "source": [
    "import random\n",
    "from matplotlib import pyplot as plt\n",
    "import numpy as np"
   ]
  },
  {
   "cell_type": "markdown",
   "metadata": {},
   "source": [
    "### Simulación"
   ]
  },
  {
   "cell_type": "markdown",
   "metadata": {},
   "source": [
    "#### Configuración del *seed*"
   ]
  },
  {
   "cell_type": "code",
   "execution_count": 2,
   "metadata": {},
   "outputs": [],
   "source": [
    "random.seed(2573)"
   ]
  },
  {
   "cell_type": "markdown",
   "metadata": {},
   "source": [
    "### Límites teóricos de $\\mu$ y $\\sigma²$"
   ]
  },
  {
   "cell_type": "code",
   "execution_count": 3,
   "metadata": {},
   "outputs": [],
   "source": [
    "mu = 0.5\n",
    "sigma2 = 1/12"
   ]
  },
  {
   "cell_type": "markdown",
   "metadata": {},
   "source": [
    "#### Función para calcular promedios"
   ]
  },
  {
   "cell_type": "code",
   "execution_count": 4,
   "metadata": {},
   "outputs": [],
   "source": [
    "array_avg = lambda X: sum(X)/len(X)"
   ]
  },
  {
   "cell_type": "markdown",
   "metadata": {},
   "source": [
    "#### Función para calcular promedios centrados"
   ]
  },
  {
   "cell_type": "code",
   "execution_count": 5,
   "metadata": {},
   "outputs": [],
   "source": [
    "def centr_avg (x, n):\n",
    "    return (x-mu)/((sigma2**0.5)/(n**0.5))"
   ]
  },
  {
   "cell_type": "markdown",
   "metadata": {},
   "source": [
    "#### Generación de Números Aleatorios\n",
    "Se generan una matriz de 3 dimensiones donde se almacenan los promedios centrados de los números generados de la siguiente manera:\n",
    "\n",
    "* *Primera dimensión:* Número $N$ de repeticiones (50 o 100)\n",
    "* *Segunda dimensión:* Tamaño $n$ de la muestra (20, 40, 60, 80, 100)\n",
    "* *Tercera dimensión:* $N$-ésimo promedio de la muestra de tamaño $n$"
   ]
  },
  {
   "cell_type": "code",
   "execution_count": 6,
   "metadata": {},
   "outputs": [],
   "source": [
    "n = [20, 40, 60, 80, 100]\n",
    "N = [50, 100]\n",
    "\n",
    "averages = []\n",
    "\n",
    "for i in N:\n",
    "    n_averages = []\n",
    "    for j in n:\n",
    "        N_averages = []\n",
    "        for k in range(i):\n",
    "            x = []\n",
    "            for l in range(j):\n",
    "                x.append(random.random())\n",
    "            N_averages.append(centr_avg(array_avg(x),j))\n",
    "        n_averages.append(N_averages)\n",
    "    averages.append(n_averages)"
   ]
  }
 ],
 "metadata": {
  "kernelspec": {
   "display_name": "Python 3",
   "language": "python",
   "name": "python3"
  },
  "language_info": {
   "codemirror_mode": {
    "name": "ipython",
    "version": 3
   },
   "file_extension": ".py",
   "mimetype": "text/x-python",
   "name": "python",
   "nbconvert_exporter": "python",
   "pygments_lexer": "ipython3",
   "version": "3.8.2"
  }
 },
 "nbformat": 4,
 "nbformat_minor": 4
}
